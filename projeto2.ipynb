{
 "cells": [
  {
   "cell_type": "code",
   "execution_count": 32,
   "metadata": {},
   "outputs": [],
   "source": [
    "import mip\n",
    "\n",
    "class BranchAndBoundBinary:\n",
    "    def __init__(self):\n",
    "        self.qtd_variaveis = None\n",
    "        self.qtd_restrições = None\n",
    "        self.funcao_objetivo = None\n",
    "        self.restricoes = None\n",
    "        self.limite_superior = float('inf')\n",
    "        self.limite_inferior = float('-inf')\n",
    "        self.modelo_geral = mip.Model(sense = mip.MAXIMIZE, solver_name= mip.CBC)\n",
    "        self.variaveis = None\n",
    "        self.fila = []\n",
    "\n",
    "    def __leitor_txt(self, arquivo):\n",
    "        try:\n",
    "            with open(arquivo, 'r') as arquivo:\n",
    "                conteudo = arquivo.readlines()\n",
    "                conteudo = [x.split() for x in conteudo]\n",
    "                conteudo = [[int(y) for y in x] for x in conteudo]\n",
    "                self.qtd_variaveis = conteudo[0][0]\n",
    "                self.qtd_restrições = conteudo[0][1]\n",
    "                self.funcao_objetivo = conteudo[1]\n",
    "                self.restricoes = conteudo[2:]\n",
    "        except FileNotFoundError:\n",
    "            print('Arquivo não encontrado')\n",
    "\n",
    "    def __criacao_do_modelo(self):\n",
    "        x = [self.modelo_geral.add_var(var_type=mip.CONTINUOUS, name = f\"x_{i}\") for i in range(self.qtd_variaveis)]\n",
    "        self.modelo_geral.objective = mip.xsum(self.funcao_objetivo[i] * x[i] for i in range(self.qtd_variaveis))\n",
    "        # Adicionando as restrições\n",
    "        for i in range(self.qtd_restrições):\n",
    "            self.modelo_geral += mip.xsum(self.restricoes[i][j] * x[j] for j in range(self.qtd_variaveis)) <= self.restricoes[i][-1]\n",
    "        # Resolvendo o modelo\n",
    "        self.modelo_geral.optimize()\n",
    "        # Adicionando os resultados das variáveis na lista solução\n",
    "        self.variaveis = x\n",
    "\n",
    "    def __is_binary(self, solucao):\n",
    "        lista_nao_binarias = []\n",
    "        for i in range(len(solucao)):\n",
    "            if solucao[i] != 0.0 and solucao[i] != 1:\n",
    "                lista_nao_binarias.append(solucao[i])\n",
    "        return lista_nao_binarias\n",
    "\n",
    "    def __var_ramification(self, solucao):\n",
    "        # variáveis da solução que não são binarias\n",
    "        variaveis_nao_binarias = self.__is_binary(solucao)\n",
    "        # das variáveis não inteiras, qual é a que tem casa decimal mais próxima de 0.5\n",
    "        variavel_mais_proxima_de_05 = [abs(round(x - int(x), 4) - 0.5) for x in variaveis_nao_binarias]\n",
    "        index = variavel_mais_proxima_de_05.index(min(variavel_mais_proxima_de_05))\n",
    "        # recupera o valor da variável na lista de inteiras\n",
    "        var = variaveis_nao_binarias[index]\n",
    "        # recupera o índice da variável na lista de variáveis\n",
    "        index = solucao.index(var)\n",
    "\n",
    "        return index\n",
    "\n",
    "    # salva modelo em arquivo lp, e mostra o conteúdo\n",
    "    def save(self, model, filename):\n",
    "        model.write(filename) # salva modelo em arquivo\n",
    "        with open(filename, \"r\") as f: # lê e exibe conteúdo do arquivo\n",
    "            print(f.read())\n",
    "\n",
    "    def resolver_modelo(self, arquivo):\n",
    "        self.__leitor_txt(arquivo)\n",
    "        self.__criacao_do_modelo()\n",
    "        # Define o limite superior\n",
    "        self.limite_superior = self.modelo_geral.objective_value\n",
    "        self.fila.append(self.modelo_geral)\n",
    "        melhor_solucao = None\n",
    "        while self.fila:\n",
    "            modelo = self.fila.pop(0)\n",
    "            status = modelo.optimize()\n",
    "            if status != mip.OptimizationStatus.OPTIMAL:\n",
    "                continue\n",
    "\n",
    "            # verifica se a solução é binaria\n",
    "            solucao = [x.x for x in modelo.vars]\n",
    "            if len(self.__is_binary(solucao)) == 0:\n",
    "                if melhor_solucao == None:\n",
    "                    melhor_solucao = modelo\n",
    "                else:\n",
    "                    if modelo.objective_value > melhor_solucao.objective_value:\n",
    "                        melhor_solucao = modelo\n",
    "        \n",
    "            # se não for binario, ramifica\n",
    "            else:\n",
    "                # verifica se a solução é binária e se é melhor que o limite inferior, atualiza o limite inferior e poda o nó\n",
    "                if len(self.__is_binary(solucao)) == 0 and modelo.objective_value > self.limite_inferior:\n",
    "                    self.limite_inferior = modelo.objective_value\n",
    "                else:\n",
    "                    # se não for binário e for melhor que o limite inferior, ramifica\n",
    "                    if modelo.objective_value > self.limite_inferior:\n",
    "                        p1, p2 = self.sub_problema(modelo)\n",
    "                    else:\n",
    "                        # independente de ser binário ou não, se não for melhor que o limite inferior, poda\n",
    "                        print(\"modelo podado\")\n",
    "                        continue\n",
    "                self.fila.append(p1)\n",
    "                self.fila.append(p2)\n",
    "        return melhor_solucao\n",
    "        \n",
    "\n",
    "    def sub_problema(self, modelo, indice_inteiro = None):\n",
    "        # cria uma cópia do modelo\n",
    "        modelo_p2 = modelo.copy()\n",
    "        modelo_p1 = modelo.copy()\n",
    "\n",
    "        var = [x for x in modelo.vars]\n",
    "        var_values = [x.x for x in modelo.vars]\n",
    "        \n",
    "        indice_variavel_ramificar = self.__var_ramification(var_values)\n",
    "    \n",
    "        # adiciona a restrição de ramificação\n",
    "        modelo_p1 += var[indice_variavel_ramificar] == 0\n",
    "        modelo_p2 += var[indice_variavel_ramificar] == 1\n",
    "\n",
    "        return modelo_p1, modelo_p2\n"
   ]
  },
  {
   "cell_type": "code",
   "execution_count": 39,
   "metadata": {},
   "outputs": [
    {
     "name": "stdout",
     "output_type": "stream",
     "text": [
      "Função Objetivo:  20.0\n",
      "Solução:  [0.0, 1.0, 0.0, 0.0, 1.0, 0.0, 0.0]\n"
     ]
    }
   ],
   "source": [
    "branch_binary = BranchAndBoundBinary()\n",
    "solucao = branch_binary.resolver_modelo('teste1.txt')\n",
    "print(\"Função Objetivo: \", solucao.objective_value)\t\n",
    "print(\"Solução: \", [x.x for x in solucao.vars])"
   ]
  },
  {
   "cell_type": "code",
   "execution_count": 40,
   "metadata": {},
   "outputs": [
    {
     "name": "stdout",
     "output_type": "stream",
     "text": [
      "Função Objetivo:  24.0\n",
      "Solução:  [0.0, 0.0, 0.0, 0.0, 0.0, 1.0, 1.0, 0.0, 1.0]\n"
     ]
    }
   ],
   "source": [
    "branch_binary = BranchAndBoundBinary()\n",
    "solucao = branch_binary.resolver_modelo('teste2.txt')\n",
    "print(\"Função Objetivo: \", solucao.objective_value)\n",
    "print(\"Solução: \", [x.x for x in solucao.vars])"
   ]
  },
  {
   "cell_type": "code",
   "execution_count": 41,
   "metadata": {},
   "outputs": [
    {
     "name": "stdout",
     "output_type": "stream",
     "text": [
      "Função Objetivo:  19.0\n",
      "Solução:  [0.0, 0.0, 1.0, 0.0, 0.0, 0.0, 1.0, 0.0, 0.0]\n"
     ]
    }
   ],
   "source": [
    "branch_binary = BranchAndBoundBinary()\n",
    "solucao = branch_binary.resolver_modelo('teste3.txt')\n",
    "print(\"Função Objetivo: \", solucao.objective_value)\n",
    "print(\"Solução: \", [x.x for x in solucao.vars])"
   ]
  },
  {
   "cell_type": "code",
   "execution_count": 42,
   "metadata": {},
   "outputs": [
    {
     "name": "stdout",
     "output_type": "stream",
     "text": [
      "Função Objetivo:  10.0\n",
      "Solução:  [0.0, 0.0, 1.0, 0.0, 0.0, 0.0, 0.0, 0.0, 0.0]\n"
     ]
    }
   ],
   "source": [
    "branch_binary = BranchAndBoundBinary()\n",
    "solucao = branch_binary.resolver_modelo('teste4.txt')\n",
    "print(\"Função Objetivo: \", solucao.objective_value)\n",
    "print(\"Solução: \", [x.x for x in solucao.vars])"
   ]
  }
 ],
 "metadata": {
  "kernelspec": {
   "display_name": "base",
   "language": "python",
   "name": "python3"
  },
  "language_info": {
   "codemirror_mode": {
    "name": "ipython",
    "version": 3
   },
   "file_extension": ".py",
   "mimetype": "text/x-python",
   "name": "python",
   "nbconvert_exporter": "python",
   "pygments_lexer": "ipython3",
   "version": "3.9.12"
  }
 },
 "nbformat": 4,
 "nbformat_minor": 2
}
